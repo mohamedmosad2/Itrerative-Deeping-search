{
 "cells": [
  {
   "cell_type": "code",
   "execution_count": 1,
   "id": "511b1122",
   "metadata": {},
   "outputs": [
    {
     "name": "stdout",
     "output_type": "stream",
     "text": [
      "Target is reachable from source within max depth\n"
     ]
    }
   ],
   "source": [
    "# Python program to print DFS traversal from a given\n",
    "# given graph\n",
    "from collections import defaultdict\n",
    "\n",
    "# This class represents a directed graph using adjacency\n",
    "# list representation\n",
    "class Graph:\n",
    "\n",
    "\tdef __init__(self,vertices):\n",
    "\n",
    "\t\t# No. of vertices\n",
    "\t\tself.V = vertices\n",
    "\n",
    "\t\t# default dictionary to store graph\n",
    "\t\tself.graph = defaultdict(list)\n",
    "\n",
    "\t# function to add an edge to graph\n",
    "\tdef addEdge(self,u,v):\n",
    "\t\tself.graph[u].append(v)\n",
    "\n",
    "\t# A function to perform a Depth-Limited search\n",
    "\t# from given source 'src'\n",
    "\tdef DLS(self,src,target,maxDepth):\n",
    "\n",
    "\t\tif src == target : return True\n",
    "\n",
    "\t\t# If reached the maximum depth, stop recursing.\n",
    "\t\tif maxDepth <= 0 : return False\n",
    "\n",
    "\t\t# Recur for all the vertices adjacent to this vertex\n",
    "\t\tfor i in self.graph[src]:\n",
    "\t\t\t\tif(self.DLS(i,target,maxDepth-1)):\n",
    "\t\t\t\t\treturn True\n",
    "\t\treturn False\n",
    "\n",
    "\t# IDDFS to search if target is reachable from v.\n",
    "\t# It uses recursive DLS()\n",
    "\tdef IDDFS(self,src, target, maxDepth):\n",
    "\n",
    "\t\t# Repeatedly depth-limit search till the\n",
    "\t\t# maximum depth\n",
    "\t\tfor i in range(maxDepth):\n",
    "\t\t\tif (self.DLS(src, target, i)):\n",
    "\t\t\t\treturn True\n",
    "\t\treturn False\n",
    "\n",
    "# Create a graph given in the above diagram\n",
    "g = Graph (7);\n",
    "g.addEdge(0, 1)\n",
    "g.addEdge(0, 2)\n",
    "g.addEdge(1, 3)\n",
    "g.addEdge(1, 4)\n",
    "g.addEdge(2, 5)\n",
    "g.addEdge(2, 6)\n",
    "\n",
    "target = 6; maxDepth = 3; src = 0\n",
    "\n",
    "if g.IDDFS(src, target, maxDepth) == True:\n",
    "\tprint (\"Target is reachable from source \" +\n",
    "\t\t\"within max depth\")\n",
    "else :\n",
    "\tprint (\"Target is NOT reachable from source \" +\n",
    "\t\t\"within max depth\")\n",
    "\n",
    "# This code is contributed by Neelam Pandey\n"
   ]
  },
  {
   "cell_type": "code",
   "execution_count": null,
   "id": "6719fd2c",
   "metadata": {},
   "outputs": [],
   "source": []
  }
 ],
 "metadata": {
  "kernelspec": {
   "display_name": "Python 3 (ipykernel)",
   "language": "python",
   "name": "python3"
  },
  "language_info": {
   "codemirror_mode": {
    "name": "ipython",
    "version": 3
   },
   "file_extension": ".py",
   "mimetype": "text/x-python",
   "name": "python",
   "nbconvert_exporter": "python",
   "pygments_lexer": "ipython3",
   "version": "3.9.7"
  }
 },
 "nbformat": 4,
 "nbformat_minor": 5
}
